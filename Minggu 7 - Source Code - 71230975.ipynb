{
 "cells": [
  {
   "cell_type": "code",
   "execution_count": null,
   "id": "772e3348",
   "metadata": {},
   "outputs": [],
   "source": [
    "def anagram(kalimat1,kalimat2):\n",
    "    kalimat1 = kalimat1.lower()\n",
    "    kalimat2 = kalimat2.lower()   \n",
    "    if sorted(kalimat1) == sorted(kalimat2):\n",
    "        print(\"Anagram\")\n",
    "    else:\n",
    "        print(\"Bukan Anagram\")"
   ]
  },
  {
   "cell_type": "code",
   "execution_count": null,
   "id": "9313e728",
   "metadata": {},
   "outputs": [],
   "source": [
    "def hitungkalimat(kalimatawal,kalimatcari):\n",
    "    kalimat = kalimatawal.lower()\n",
    "    cari = kalimatcari.lower()\n",
    "    hasil = kalimat.count(cari)\n",
    "    print(f\"Kata \\\"{cari}\\\": \\nmuncul {hasil} kali di dalam kalimat: \\\"{kalimat}\\\" \")"
   ]
  },
  {
   "cell_type": "code",
   "execution_count": null,
   "id": "9aaccfdb",
   "metadata": {},
   "outputs": [],
   "source": [
    "def hapusspasi(kalimat):\n",
    "    kalimatrapi = kalimat.split(\" \")\n",
    "    hasil = True\n",
    "    while hasil == True:\n",
    "        if '' in kalimatrapi:\n",
    "            kalimatrapi.remove('')\n",
    "        else:\n",
    "            break\n",
    "    return \" \".join(kalimatrapi)\n",
    "kalimat = str(input(\"Masukkan Kalimat yang mau dirapikan: \"))\n",
    "print(hapusspasi(kalimat))"
   ]
  },
  {
   "cell_type": "code",
   "execution_count": null,
   "id": "bc120ff4",
   "metadata": {},
   "outputs": [],
   "source": [
    "def hitungkata(kalimat):\n",
    "    kata_kalimat = kalimat.split()\n",
    "    terpendek = min(kata_kalimat, key=len)\n",
    "    terpanjang = max(kata_kalimat, key=len)\n",
    "    return terpendek, terpanjang\n",
    "kalimat = input(\"Masukkan kalimat: \")\n",
    "terpendek, terpanjang = hitungkata(kalimat)\n",
    "print(f\"terpendek dari kalimat:\\\"{kalimat}\\\" adalah\", terpendek)\n",
    "print(f\"terpanjang dari kalimat:\\\"{kalimat}\\\" adalah\", terpanjang)"
   ]
  }
 ],
 "metadata": {
  "kernelspec": {
   "display_name": "Python 3 (ipykernel)",
   "language": "python",
   "name": "python3"
  },
  "language_info": {
   "codemirror_mode": {
    "name": "ipython",
    "version": 3
   },
   "file_extension": ".py",
   "mimetype": "text/x-python",
   "name": "python",
   "nbconvert_exporter": "python",
   "pygments_lexer": "ipython3",
   "version": "3.11.5"
  }
 },
 "nbformat": 4,
 "nbformat_minor": 5
}
